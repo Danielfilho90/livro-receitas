{
  "nbformat": 4,
  "nbformat_minor": 0,
  "metadata": {
    "colab": {
      "name": "[E] Maratona - Dia 02.ipynb",
      "provenance": [],
      "collapsed_sections": [],
      "include_colab_link": true
    },
    "kernelspec": {
      "name": "python3",
      "display_name": "Python 3"
    },
    "language_info": {
      "name": "python"
    }
  },
  "cells": [
    {
      "cell_type": "markdown",
      "metadata": {
        "id": "view-in-github",
        "colab_type": "text"
      },
      "source": [
        "<a href=\"https://colab.research.google.com/github/Danielfilho90/livro-receitas/blob/master/%5BE%5D_Maratona_Dia_02.ipynb\" target=\"_parent\"><img src=\"https://colab.research.google.com/assets/colab-badge.svg\" alt=\"Open In Colab\"/></a>"
      ]
    },
    {
      "cell_type": "markdown",
      "metadata": {
        "id": "13PxXo-ENFhg"
      },
      "source": [
        "<img src=\"https://www.cesar.school/wp-content/uploads/2019/09/marca_cesar_school.png\" alt=\"drawing\" width=\"200\"/>\n",
        "\n",
        "# Maratona Python - **Dia 02**\n",
        "\n",
        "---\n",
        "\n",
        "- Maratona de Programação\n",
        "- URI\n",
        "- Desafios"
      ]
    },
    {
      "cell_type": "markdown",
      "metadata": {
        "id": "6r1dx-1WPidP"
      },
      "source": [
        "![URI](https://www.urionlinejudge.com.br/judge/img/5.0/logo.130615.png?1591503281)\n",
        "\n",
        "O URI é um projeto que promove a prática de programação atavés de um sistema que avalia de forma automática a execução de códigos através de uma ferramenta on-line.\n",
        "\n",
        "Ele possui mais de 1000 questões, dividios em 8 grandes categorias. Disponíveis em Portugês e Inglês.\n",
        "\n",
        "- Times;\n",
        "- Torneio.\n",
        "\n",
        "> FAQ: [Status das questões](https://www.urionlinejudge.com.br/judge/pt/answers)"
      ]
    },
    {
      "cell_type": "markdown",
      "metadata": {
        "id": "EMf67FvISgvQ"
      },
      "source": [
        "# Questões"
      ]
    },
    {
      "cell_type": "markdown",
      "metadata": {
        "id": "_yjYDrnE0Kpj"
      },
      "source": [
        "[1000 - Hello World!](https://www.urionlinejudge.com.br/judge/pt/problems/view/1000)"
      ]
    },
    {
      "cell_type": "code",
      "metadata": {
        "id": "iTvIeT3UMJRA",
        "outputId": "77b37c8f-328e-4d4c-83c2-35bcad22560a",
        "colab": {
          "base_uri": "https://localhost:8080/"
        }
      },
      "source": [
        "print('Hello world!')"
      ],
      "execution_count": 1,
      "outputs": [
        {
          "output_type": "stream",
          "text": [
            "Hello world!\n"
          ],
          "name": "stdout"
        }
      ]
    },
    {
      "cell_type": "markdown",
      "metadata": {
        "id": "Pelrazkl1AXI"
      },
      "source": [
        "[1001 - Extremamente Básico](https://www.urionlinejudge.com.br/judge/pt/problems/view/1001)"
      ]
    },
    {
      "cell_type": "code",
      "metadata": {
        "id": "EmdkYlL-SodG",
        "outputId": "d74d02f0-1d46-4975-9502-8ac504da9658",
        "colab": {
          "base_uri": "https://localhost:8080/"
        }
      },
      "source": [
        "a = int(input())\n",
        "b = int(input())\n",
        "x = a + b\n",
        "print('X =',x)"
      ],
      "execution_count": 5,
      "outputs": [
        {
          "output_type": "stream",
          "text": [
            "10\n",
            "9\n",
            "X = 19\n"
          ],
          "name": "stdout"
        }
      ]
    },
    {
      "cell_type": "markdown",
      "metadata": {
        "id": "YGB60XV212UV"
      },
      "source": [
        "[1008 - Salário](https://www.urionlinejudge.com.br/judge/pt/problems/view/1008)"
      ]
    },
    {
      "cell_type": "code",
      "metadata": {
        "id": "NMmNHL0RSq0m",
        "outputId": "9afcf245-aa7c-4f9e-d8bd-6fc93c915de6",
        "colab": {
          "base_uri": "https://localhost:8080/"
        }
      },
      "source": [
        "num = int(input())\n",
        "work = float(input())\n",
        "hour = float(input())\n",
        "res = hour * work\n",
        "print(f'NUMBER = {num}')\n",
        "print(f'SALARY = U$ {res:.2f}')\n",
        "\n"
      ],
      "execution_count": 61,
      "outputs": [
        {
          "output_type": "stream",
          "text": [
            "25\n",
            "5.50\n",
            "100\n",
            "NUMBER = 25\n",
            "SALARY = U$ 550.00\n"
          ],
          "name": "stdout"
        }
      ]
    },
    {
      "cell_type": "markdown",
      "metadata": {
        "id": "7ikxmXNl2E3s"
      },
      "source": [
        "[1011 - Esfera](https://www.urionlinejudge.com.br/judge/pt/problems/view/1011)"
      ]
    },
    {
      "cell_type": "code",
      "metadata": {
        "id": "xcpsw_PeSsvn",
        "outputId": "8b05e525-45f6-4dbb-e8cb-406d4a618c0c",
        "colab": {
          "base_uri": "https://localhost:8080/"
        }
      },
      "source": [
        "pi = 3.14159\n",
        "raio = float(input())\n",
        "volume = float(4/3) * pi * (raio**3)\n",
        "\n",
        "print(f'VOLUME = {volume:.3f}')\n",
        "\n"
      ],
      "execution_count": 74,
      "outputs": [
        {
          "output_type": "stream",
          "text": [
            "3\n",
            "VOLUME = 113.097\n"
          ],
          "name": "stdout"
        }
      ]
    },
    {
      "cell_type": "markdown",
      "metadata": {
        "id": "bpAFkEWK2iiK"
      },
      "source": [
        "[1013 - O Maior](https://www.urionlinejudge.com.br/judge/pt/problems/view/1013)"
      ]
    },
    {
      "cell_type": "code",
      "metadata": {
        "id": "AB9u2kZQSvKA",
        "outputId": "febadaee-7ed3-4b64-9f67-172a8e9f8536",
        "colab": {
          "base_uri": "https://localhost:8080/",
          "height": 248
        }
      },
      "source": [
        "a, b, c = list(map(int,input().split()))\n",
        "def maiorAB(a, b):\n",
        "  return int((a + b + abs(a - b))/2)\n",
        "maior = maiorAB(a,b)\n",
        "maior = maiorAB(maior, c)\n",
        "print(f'{maior} eh o maior')  "
      ],
      "execution_count": 7,
      "outputs": [
        {
          "output_type": "stream",
          "text": [
            "106\n"
          ],
          "name": "stdout"
        },
        {
          "output_type": "error",
          "ename": "ValueError",
          "evalue": "ignored",
          "traceback": [
            "\u001b[0;31m---------------------------------------------------------------------------\u001b[0m",
            "\u001b[0;31mValueError\u001b[0m                                Traceback (most recent call last)",
            "\u001b[0;32m<ipython-input-7-d3ebf0f9fc59>\u001b[0m in \u001b[0;36m<module>\u001b[0;34m()\u001b[0m\n\u001b[0;32m----> 1\u001b[0;31m \u001b[0ma\u001b[0m\u001b[0;34m,\u001b[0m \u001b[0mb\u001b[0m\u001b[0;34m,\u001b[0m \u001b[0mc\u001b[0m \u001b[0;34m=\u001b[0m \u001b[0mlist\u001b[0m\u001b[0;34m(\u001b[0m\u001b[0mmap\u001b[0m\u001b[0;34m(\u001b[0m\u001b[0mint\u001b[0m\u001b[0;34m,\u001b[0m\u001b[0minput\u001b[0m\u001b[0;34m(\u001b[0m\u001b[0;34m)\u001b[0m\u001b[0;34m.\u001b[0m\u001b[0msplit\u001b[0m\u001b[0;34m(\u001b[0m\u001b[0;34m)\u001b[0m\u001b[0;34m)\u001b[0m\u001b[0;34m)\u001b[0m\u001b[0;34m\u001b[0m\u001b[0;34m\u001b[0m\u001b[0m\n\u001b[0m\u001b[1;32m      2\u001b[0m \u001b[0;32mdef\u001b[0m \u001b[0mmaiorAB\u001b[0m\u001b[0;34m(\u001b[0m\u001b[0ma\u001b[0m\u001b[0;34m,\u001b[0m \u001b[0mb\u001b[0m\u001b[0;34m)\u001b[0m\u001b[0;34m:\u001b[0m\u001b[0;34m\u001b[0m\u001b[0;34m\u001b[0m\u001b[0m\n\u001b[1;32m      3\u001b[0m   \u001b[0;32mreturn\u001b[0m \u001b[0mint\u001b[0m\u001b[0;34m(\u001b[0m\u001b[0;34m(\u001b[0m\u001b[0ma\u001b[0m \u001b[0;34m+\u001b[0m \u001b[0mb\u001b[0m \u001b[0;34m+\u001b[0m \u001b[0mabs\u001b[0m\u001b[0;34m(\u001b[0m\u001b[0ma\u001b[0m \u001b[0;34m-\u001b[0m \u001b[0mb\u001b[0m\u001b[0;34m)\u001b[0m\u001b[0;34m)\u001b[0m\u001b[0;34m/\u001b[0m\u001b[0;36m2\u001b[0m\u001b[0;34m)\u001b[0m\u001b[0;34m\u001b[0m\u001b[0;34m\u001b[0m\u001b[0m\n\u001b[1;32m      4\u001b[0m \u001b[0mmaior\u001b[0m \u001b[0;34m=\u001b[0m \u001b[0mmaiorAB\u001b[0m\u001b[0;34m(\u001b[0m\u001b[0ma\u001b[0m\u001b[0;34m,\u001b[0m\u001b[0mb\u001b[0m\u001b[0;34m)\u001b[0m\u001b[0;34m\u001b[0m\u001b[0;34m\u001b[0m\u001b[0m\n\u001b[1;32m      5\u001b[0m \u001b[0mmaior\u001b[0m \u001b[0;34m=\u001b[0m \u001b[0mmaiorAB\u001b[0m\u001b[0;34m(\u001b[0m\u001b[0mmaior\u001b[0m\u001b[0;34m,\u001b[0m \u001b[0mc\u001b[0m\u001b[0;34m)\u001b[0m\u001b[0;34m\u001b[0m\u001b[0;34m\u001b[0m\u001b[0m\n",
            "\u001b[0;31mValueError\u001b[0m: not enough values to unpack (expected 3, got 1)"
          ]
        }
      ]
    },
    {
      "cell_type": "markdown",
      "metadata": {
        "id": "W6ynyQ3M3O1r"
      },
      "source": [
        "[1038 - Lanche](https://www.urionlinejudge.com.br/judge/pt/problems/view/1038)"
      ]
    },
    {
      "cell_type": "code",
      "metadata": {
        "id": "UTUmYMw0SzDH",
        "outputId": "92e5a71e-2ff9-4ef7-a772-e62f72228458",
        "colab": {
          "base_uri": "https://localhost:8080/"
        }
      },
      "source": [
        "code = [1, 2, 3, 4, 5]\n",
        "esp = ['Cachorro Quente', 'X-Salada', 'X-Bacon', 'Torrada simples', 'Refrigerante']\n",
        "price = [4.00, 4.50, 5.00, 2.00, 1.50]\n",
        "\n",
        "x = int(input())\n",
        "y = int(input())\n",
        "\n",
        "if x in range(len(code)):\n",
        "  print(f'Total: R$ {y*price[x-1]:.2f}')\n"
      ],
      "execution_count": 17,
      "outputs": [
        {
          "output_type": "stream",
          "text": [
            "3\n",
            "2\n",
            "Total: R$ 10.00\n"
          ],
          "name": "stdout"
        }
      ]
    },
    {
      "cell_type": "code",
      "metadata": {
        "id": "GRXAu-6LSzdP"
      },
      "source": [
        ""
      ],
      "execution_count": null,
      "outputs": []
    },
    {
      "cell_type": "markdown",
      "metadata": {
        "id": "16utMTxg67WQ"
      },
      "source": [
        "[1050 - DDD](https://www.urionlinejudge.com.br/judge/pt/problems/view/1050)"
      ]
    },
    {
      "cell_type": "code",
      "metadata": {
        "id": "q0EwIZ-5S3-n"
      },
      "source": [
        ""
      ],
      "execution_count": null,
      "outputs": []
    },
    {
      "cell_type": "markdown",
      "metadata": {
        "id": "p3rb-Rtj-QsA"
      },
      "source": [
        "[1094 - Experiências](https://www.urionlinejudge.com.br/judge/pt/problems/view/1094)"
      ]
    },
    {
      "cell_type": "code",
      "metadata": {
        "id": "2jUmOyQmS7s4"
      },
      "source": [
        ""
      ],
      "execution_count": null,
      "outputs": []
    },
    {
      "cell_type": "markdown",
      "metadata": {
        "id": "bnoNGhV4-Zh7"
      },
      "source": [
        "[1151 - Fibonacci Fácil](https://www.urionlinejudge.com.br/judge/pt/problems/view/1151)"
      ]
    },
    {
      "cell_type": "code",
      "metadata": {
        "id": "Z65_FBDWS8tP"
      },
      "source": [
        ""
      ],
      "execution_count": null,
      "outputs": []
    },
    {
      "cell_type": "markdown",
      "metadata": {
        "id": "Ak42Hq4j-l5A"
      },
      "source": [
        "[1173 - Preenchimento de Vetor I](https://www.urionlinejudge.com.br/judge/pt/problems/view/1173)"
      ]
    },
    {
      "cell_type": "code",
      "metadata": {
        "id": "XTV0gajFS-wG"
      },
      "source": [
        ""
      ],
      "execution_count": null,
      "outputs": []
    },
    {
      "cell_type": "markdown",
      "metadata": {
        "id": "GMv2Vm9k_JOu"
      },
      "source": [
        "[1175 - Troca em Vetor I](https://www.urionlinejudge.com.br/judge/pt/problems/view/1175)"
      ]
    },
    {
      "cell_type": "code",
      "metadata": {
        "id": "NBRC6ybCTBe3"
      },
      "source": [
        ""
      ],
      "execution_count": null,
      "outputs": []
    },
    {
      "cell_type": "markdown",
      "metadata": {
        "id": "WrVwSZDcBr1Q"
      },
      "source": [
        "[2569 - A Bruxa do 7 x 1](https://www.urionlinejudge.com.br/judge/pt/problems/view/2569)\n"
      ]
    },
    {
      "cell_type": "code",
      "metadata": {
        "id": "Pj5NmgyOTF5P"
      },
      "source": [
        ""
      ],
      "execution_count": null,
      "outputs": []
    },
    {
      "cell_type": "markdown",
      "metadata": {
        "id": "XPOEenQmE_5k"
      },
      "source": [
        "[2650 - Construindo Muralhas](https://www.urionlinejudge.com.br/judge/pt/problems/view/2650)"
      ]
    },
    {
      "cell_type": "code",
      "metadata": {
        "id": "DbMNIFRkVpPn"
      },
      "source": [
        ""
      ],
      "execution_count": null,
      "outputs": []
    },
    {
      "cell_type": "markdown",
      "metadata": {
        "id": "MJrywUB7ayEp"
      },
      "source": [
        "[2653 - Dijkstra](https://www.urionlinejudge.com.br/judge/pt/problems/view/2653)"
      ]
    },
    {
      "cell_type": "code",
      "metadata": {
        "id": "Qk5-O6nEVptX"
      },
      "source": [
        ""
      ],
      "execution_count": null,
      "outputs": []
    }
  ]
}