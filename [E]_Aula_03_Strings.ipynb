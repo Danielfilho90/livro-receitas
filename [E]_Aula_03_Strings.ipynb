{
  "nbformat": 4,
  "nbformat_minor": 0,
  "metadata": {
    "colab": {
      "name": "[E] Aula 03 - Strings.ipynb",
      "provenance": [],
      "collapsed_sections": [],
      "include_colab_link": true
    },
    "kernelspec": {
      "name": "python3",
      "display_name": "Python 3"
    },
    "language_info": {
      "name": "python"
    }
  },
  "cells": [
    {
      "cell_type": "markdown",
      "metadata": {
        "id": "view-in-github",
        "colab_type": "text"
      },
      "source": [
        "<a href=\"https://colab.research.google.com/github/Danielfilho90/livro-receitas/blob/master/%5BE%5D_Aula_03_Strings.ipynb\" target=\"_parent\"><img src=\"https://colab.research.google.com/assets/colab-badge.svg\" alt=\"Open In Colab\"/></a>"
      ]
    },
    {
      "cell_type": "markdown",
      "metadata": {
        "id": "tRvcy-qw7juT"
      },
      "source": [
        "<img src=\"https://www.cesar.school/wp-content/uploads/2019/09/marca_cesar_school.png\" alt=\"drawing\" width=\"200\"/>\n",
        "\n",
        "# Python - **Aula 03**\n",
        "\n",
        "---\n",
        "\n",
        "- Manipulação de Strings"
      ]
    },
    {
      "cell_type": "markdown",
      "metadata": {
        "id": "w4q08h5q8Joc"
      },
      "source": [
        "## str\n",
        "\n",
        "Em Python, textos são armazenados como uma sequência de caracteres [Unicode](https://pt.wikipedia.org/wiki/Unicode). Essa seguência, conhecida como **String** é representada no Python com o tipo `str`.\n",
        "\n",
        "[ASCII](https://www.ime.usp.br/~kellyrb/mac2166_2015/tabela_ascii.html)\n",
        "\n",
        "Ex.: `'Exemplo de Texto'`\n",
        "\n",
        "Por ser uma sequência, é possivel acessar cada caracter através de um índice. Além disso, o tipo `str` fornece uma variedade de métodos de manipulação desses caracteres.\n",
        "\n",
        "Para criar uma variável `str`, é possível usar aspas simples, duplas ou \"triplas\":"
      ]
    },
    {
      "cell_type": "code",
      "metadata": {
        "id": "kV7Yrphu7SqF",
        "outputId": "22716898-7eb7-47c2-a4fd-c36f4b4d690c",
        "colab": {
          "base_uri": "https://localhost:8080/"
        }
      },
      "source": [
        "# Aspas simples\n",
        "sim = 'Simples'\n",
        "\n",
        "# Aspas duplas\n",
        "dup = \"Duplas\"\n",
        "\n",
        "# Aspas triplas*\n",
        "tri = '''Triplas\n",
        "podem\n",
        "ter várias\n",
        "linhas'''\n",
        "\n",
        "print(sim)\n",
        "print(dup)\n",
        "print(tri)"
      ],
      "execution_count": 1,
      "outputs": [
        {
          "output_type": "stream",
          "text": [
            "Simples\n",
            "Duplas\n",
            "Triplas\n",
            "podem\n",
            "ter várias\n",
            "linhas\n"
          ],
          "name": "stdout"
        }
      ]
    },
    {
      "cell_type": "markdown",
      "metadata": {
        "id": "BrZTwMpu-FEq"
      },
      "source": [
        "## Caracteres de Escape\n",
        "\n",
        "São chamados de **caracteres de escape** marcadores usados para acessar caracteres do código Unicode. Para escreve-los, use `contra-barra + caractere`:\n",
        "\n",
        "| sintaxe | descrição |\n",
        "|---------|-----------|\n",
        "| `\\n` | Quebra de linha |\n",
        "| `\\t` | Tabulação |\n",
        "| `\\'` | Aspas simples |\n",
        "| `\\\"` | Aspas duplas |\n",
        "| `\\\\` | Aspas duplas |\n",
        "\n",
        "> Obs.: A interpretação dos caracteres de escape pode ser \"desativada\" usando Raw Strings, marcadas com um `r` antes das aspas:\n",
        "```python\n",
        "text = r'Exemplo de texto\\nSem caracteres de escape'\n",
        "```"
      ]
    },
    {
      "cell_type": "code",
      "metadata": {
        "id": "NzRBt9dw99n-",
        "outputId": "83a8e2eb-479d-4b71-e04b-8da8832be4c7",
        "colab": {
          "base_uri": "https://localhost:8080/"
        }
      },
      "source": [
        "# caracteres de escape\n",
        "print('olá\\nComo vai você\\t \\\"tudo bem!\\\"')\n",
        "\n",
        "# r-strings\n",
        "print(r'olá \\n Como vai você')\n"
      ],
      "execution_count": 6,
      "outputs": [
        {
          "output_type": "stream",
          "text": [
            "olá\n",
            "Como vai você\t \"tudo bem!\"\n",
            "olá \\n Como vai você\n"
          ],
          "name": "stdout"
        }
      ]
    },
    {
      "cell_type": "markdown",
      "metadata": {
        "id": "ZxcEKfujBVqL"
      },
      "source": [
        "## Função embutida `len()`\n",
        "\n",
        "A função `len()` retorna a quantidade de itens dentro de um \"container\". Como as strings de Python são coleções de caracteres, a função `len()` quando recebe uma string, retorna a quantade de caracteres do texto.\n",
        "\n",
        "```python\n",
        "text = 'supercalifragilisticexpialidocious'\n",
        "print(len(text)) # 34\n",
        "```"
      ]
    },
    {
      "cell_type": "code",
      "metadata": {
        "id": "dK0Nos7pBsTo",
        "outputId": "c7592865-50d2-47d5-897e-3aa250b6278c",
        "colab": {
          "base_uri": "https://localhost:8080/"
        }
      },
      "source": [
        "text = 'supercalifragilisticexpialidocious'\n",
        "print(len(text))"
      ],
      "execution_count": 7,
      "outputs": [
        {
          "output_type": "stream",
          "text": [
            "34\n"
          ],
          "name": "stdout"
        }
      ]
    },
    {
      "cell_type": "markdown",
      "metadata": {
        "id": "lAD8Fh2NCzIL"
      },
      "source": [
        "## Indexaçaõ de Strings\n",
        "\n",
        "<!--![Hello](https://developers.google.com/edu/python/images/hello.png)-->\n",
        "\n",
        "|P|y|t|h|o|n|\n",
        "|-|-|-|-|-|-|\n",
        "|0|1|2|3|4|5|6|\n",
        "|-6|-5|-4|-3|-2|-1|\n",
        "\n",
        "Cada caractere dentro de uma string pode ser acessado pela sua posição (índice). Esse *index* pode ser positivo ou negativo.\n",
        "\n",
        "```python\n",
        "py = 'Python'\n",
        "py[3] # h\n",
        "```\n",
        "\n",
        "Além de um caractere específico acessado pela posição, é possível acessar fazer o *fatiamento*. Fatiar permite que você obtenha *substring*:\n",
        "\n",
        "```python\n",
        "py[0:2] # caracteres da posição 0 (incluído) até 2 (excluído)\n",
        "py[2:5] # caracteres da posição 2 (incluído) até 5 (excluído)\n",
        "```\n",
        "\n",
        "Ainda existe uma outra notação que permite acessar substrings de uma posição até outra determinando o passo:\n",
        "\n",
        "```python\n",
        "text = 'Só sei que nada sei'\n",
        "text[0:20:2] # caracteres da posição 0 (incluído) até 20 (excluído), passo 2\n",
        "```\n",
        "\n",
        "> Obs.: Não existe um tipo \"caractere\". Em Python um caracter é uma string que possui tamanho 1."
      ]
    },
    {
      "cell_type": "code",
      "metadata": {
        "id": "HGPH61z6GE4s",
        "outputId": "742458cc-7ad0-462e-e9be-eb47359acfd4",
        "colab": {
          "base_uri": "https://localhost:8080/"
        }
      },
      "source": [
        "text = 'Esse é um exemplo da hora!'\n",
        "# Posição por index\n",
        "print(text[0])\n",
        "print(text[1])\n",
        "print(text[-1])\n",
        "\n",
        "# Substring\n",
        "print(text[0:4])\n",
        "\n",
        "# Substring com passo\n",
        "print(text[0:10])\n",
        "\n",
        "# Substring invertida com passo\n",
        "print(text[::-1])\n"
      ],
      "execution_count": 16,
      "outputs": [
        {
          "output_type": "stream",
          "text": [
            "E\n",
            "s\n",
            "!\n",
            "Esse\n",
            "Esse é um \n",
            "!aroh ad olpmexe mu é essE\n"
          ],
          "name": "stdout"
        }
      ]
    },
    {
      "cell_type": "markdown",
      "metadata": {
        "id": "0T9hcreaHoIb"
      },
      "source": [
        "## str.find()\n",
        "\n",
        "Retorna a posição de uma determinada substring procurada.\n",
        "\n",
        "Se o valor retornado for:\n",
        "- `>= 0` : Substring encontrado numa posição específica\n",
        "- `< 0` : Substring não encontrado"
      ]
    },
    {
      "cell_type": "code",
      "metadata": {
        "id": "kCyw4bQsHxfp",
        "outputId": "12e896f2-242f-4896-c407-ac225956843e",
        "colab": {
          "base_uri": "https://localhost:8080/"
        }
      },
      "source": [
        "#help(str.find)\n",
        "print('Olá meu nome é Daniel'.find('Daniel'))\n"
      ],
      "execution_count": 22,
      "outputs": [
        {
          "output_type": "stream",
          "text": [
            "15\n"
          ],
          "name": "stdout"
        }
      ]
    },
    {
      "cell_type": "markdown",
      "metadata": {
        "id": "PfIqf0E0IYoT"
      },
      "source": [
        "## str.count()\n",
        "\n",
        "Retorna a quantidade de ocorrências de determinada substring."
      ]
    },
    {
      "cell_type": "code",
      "metadata": {
        "id": "JuXSls5wJNU0",
        "outputId": "a67473c6-5186-4ab2-dee1-7b44bdc0657c",
        "colab": {
          "base_uri": "https://localhost:8080/"
        }
      },
      "source": [
        "#help(''.count)\n",
        "dan = 'ola meu nome é daniel, e o seu? daniel tambem'\n",
        "print(dan.count('daniel'))"
      ],
      "execution_count": 29,
      "outputs": [
        {
          "output_type": "stream",
          "text": [
            "2\n"
          ],
          "name": "stdout"
        }
      ]
    },
    {
      "cell_type": "markdown",
      "metadata": {
        "id": "xz5Cg49fJP_M"
      },
      "source": [
        "## Operações com Strings\n",
        "\n",
        "> ⚠ Strings em Python são imutáveis, o que signifca que atribuir um valor a uma posição indexada irá resultar em um erro.\n",
        "\n",
        "Os seguintes operadores podem ser usados com strings:\n",
        "\n",
        "- `+` - Concatenação\n",
        "- `*` - Repetição"
      ]
    },
    {
      "cell_type": "code",
      "metadata": {
        "id": "aSMaMv76M7w-",
        "outputId": "67d433ae-c76b-48fa-d507-adede4a0fa46",
        "colab": {
          "base_uri": "https://localhost:8080/"
        }
      },
      "source": [
        "nome = 'Daniel'\n",
        "nome += ' Filho'\n",
        "print(nome)\n",
        "print('*'*100)\n",
        "nome = nome + ' Vai arrumar um trampo através do NExT'\n",
        "print(nome)"
      ],
      "execution_count": 33,
      "outputs": [
        {
          "output_type": "stream",
          "text": [
            "Daniel Filho\n",
            "****************************************************************************************************\n",
            "Daniel Filho Vai arrumar um trampo através do NExT\n"
          ],
          "name": "stdout"
        }
      ]
    },
    {
      "cell_type": "markdown",
      "metadata": {
        "id": "7HX9iZyjM-F7"
      },
      "source": [
        "## str.lower() e str.upper()\n",
        "\n",
        "- `.lower()` - Retorna uma nova string com caracteres em maiúsculo\n",
        "- `.upper()` - Retorna uma nova string com caracteres em minúsculo"
      ]
    },
    {
      "cell_type": "code",
      "metadata": {
        "id": "jqhQ9-IpNd5L",
        "outputId": "957fdc0d-1edc-4b77-c1b9-c113adabf999",
        "colab": {
          "base_uri": "https://localhost:8080/"
        }
      },
      "source": [
        "exp = 'Um exemplo de texto'\n",
        "print(exp.lower())\n",
        "print(exp.upper())"
      ],
      "execution_count": 34,
      "outputs": [
        {
          "output_type": "stream",
          "text": [
            "um exemplo de texto\n",
            "UM EXEMPLO DE TEXTO\n"
          ],
          "name": "stdout"
        }
      ]
    },
    {
      "cell_type": "markdown",
      "metadata": {
        "id": "gqZS8743HcmT"
      },
      "source": [
        "## f-Strings\n",
        "\n",
        "> formatted string literals\n",
        "\n",
        "```python\n",
        "name = 'Erick'\n",
        "print(f'Meu nome é {name}')\n",
        "```\n"
      ]
    },
    {
      "cell_type": "code",
      "metadata": {
        "id": "WPltXEA3HetE",
        "outputId": "e3360e30-20dd-4f57-a88f-f0d84405c5bf",
        "colab": {
          "base_uri": "https://localhost:8080/"
        }
      },
      "source": [
        "nome = 'Daniel'\n",
        "print(f'Meu nome é {nome}')"
      ],
      "execution_count": 36,
      "outputs": [
        {
          "output_type": "stream",
          "text": [
            "Meu nome é Daniel\n"
          ],
          "name": "stdout"
        }
      ]
    },
    {
      "cell_type": "markdown",
      "metadata": {
        "id": "PN-C0mXFNeR0"
      },
      "source": [
        "## str.split()\n",
        "\n",
        "Retorna uma lista de substrings dividido por um separador. Se nenhum parâmetro for passado, o separador (ou delimitador) adotado é o espaço em branco."
      ]
    },
    {
      "cell_type": "code",
      "metadata": {
        "id": "YD3qFXcHN83D",
        "outputId": "e22efded-2697-4332-db04-f10621df4e18",
        "colab": {
          "base_uri": "https://localhost:8080/"
        }
      },
      "source": [
        "exp = 'esse é um exemplo muito da hora'\n",
        "lista = exp.split()\n",
        "print(lista[0])"
      ],
      "execution_count": 41,
      "outputs": [
        {
          "output_type": "stream",
          "text": [
            "esse\n"
          ],
          "name": "stdout"
        }
      ]
    },
    {
      "cell_type": "markdown",
      "metadata": {
        "id": "42qxIR7TOZ_G"
      },
      "source": [
        "## str.replace()\n",
        "\n",
        "Retorna uma nova string com um texto substituído por outro.\n",
        "\n",
        "```python\n",
        "str.replace('old', 'new')\n",
        "```"
      ]
    },
    {
      "cell_type": "code",
      "metadata": {
        "id": "YTqjBSxxO1Sl",
        "outputId": "31d19ddf-7cdd-465d-8e5b-be3833f8a1cd",
        "colab": {
          "base_uri": "https://localhost:8080/"
        }
      },
      "source": [
        "exp = 'Daenerys, a primeira de seu nome. A renascida'\n",
        "print(exp.replace('Daenerys', 'Dany').replace('A renascida', 'mae de dragões'))\n",
        "print(exp)"
      ],
      "execution_count": 50,
      "outputs": [
        {
          "output_type": "stream",
          "text": [
            "Dany, a primeira de seu nome. mae de dragões\n",
            "Daenerys, a primeira de seu nome. A renascida\n"
          ],
          "name": "stdout"
        }
      ]
    },
    {
      "cell_type": "markdown",
      "metadata": {
        "id": "8jYfr3e9HNiU"
      },
      "source": [
        "## str.isdigt()\n",
        "\n",
        "Retorna `True` se todos os caracteres da string forem números.\n",
        "\n",
        "```python\n",
        "str.isdigit('103')\n",
        "```"
      ]
    },
    {
      "cell_type": "code",
      "metadata": {
        "id": "0mCscST_HXTU"
      },
      "source": [
        ""
      ],
      "execution_count": null,
      "outputs": []
    },
    {
      "cell_type": "markdown",
      "metadata": {
        "id": "Leg8dXP8-S4K"
      },
      "source": [
        "# Exercícios Fundamentais"
      ]
    },
    {
      "cell_type": "markdown",
      "metadata": {
        "id": "U1alCDlOLkdM"
      },
      "source": [
        "0. Escreva um programa que verifique se determinada entrada de usuário é um número. Considere válido números interios e reais, positivos e negativos, como: `10`, `-20`, `103.0`, `-12.5`"
      ]
    },
    {
      "cell_type": "code",
      "metadata": {
        "id": "l1fwmi56LnqC",
        "outputId": "be19dd62-3c5d-4bd5-8de5-9b45617bf284",
        "colab": {
          "base_uri": "https://localhost:8080/"
        }
      },
      "source": [
        "num = '1'\n",
        "if num.isdigit():\n",
        "  print('Valor inteiro válido')\n",
        "elif num.find('-') == 0 and num[1:].isdigit():\n",
        "  print('Valor inteiro negativo válido')\n",
        "elif num.count('.') == 1 and num.count('-') == 0 and num.find('.') >= 1:\n",
        "  print('Valor inteiro invalido')\n",
        "else:\n",
        "  print('Valor invalido')\n"
      ],
      "execution_count": 71,
      "outputs": [
        {
          "output_type": "stream",
          "text": [
            "Valor inteiro válido\n"
          ],
          "name": "stdout"
        }
      ]
    },
    {
      "cell_type": "markdown",
      "metadata": {
        "id": "cbHjfaFBD1iv"
      },
      "source": [
        "1. Faça um programa que leia uma string e a imprima."
      ]
    },
    {
      "cell_type": "code",
      "metadata": {
        "id": "ueshYTIsD1C3",
        "outputId": "4db0fb6a-fdb6-41f7-9e70-a6bbdc909b8d",
        "colab": {
          "base_uri": "https://localhost:8080/"
        }
      },
      "source": [
        "person = 'Jon snow'\n",
        "print(person)\n",
        "person1 = input('Digite seu personagem favorito: ')\n",
        "print(person1)"
      ],
      "execution_count": 52,
      "outputs": [
        {
          "output_type": "stream",
          "text": [
            "Jon snow\n",
            "Digite seu personagem favorito: Daenerys\n",
            "Daenerys\n"
          ],
          "name": "stdout"
        }
      ]
    },
    {
      "cell_type": "markdown",
      "metadata": {
        "id": "2l-QrkDjD3Xm"
      },
      "source": [
        "2. Crie um programa que imprima o comprimento de uma string."
      ]
    },
    {
      "cell_type": "code",
      "metadata": {
        "id": "3pTXbzeZD3_O",
        "outputId": "91677890-34f0-4776-9bf3-7b95ce21616b",
        "colab": {
          "base_uri": "https://localhost:8080/"
        }
      },
      "source": [
        "# python -> 6\n",
        "first = 'Pelé é o maior da história!!!'\n",
        "print(len(first))\n"
      ],
      "execution_count": 53,
      "outputs": [
        {
          "output_type": "stream",
          "text": [
            "29\n"
          ],
          "name": "stdout"
        }
      ]
    },
    {
      "cell_type": "markdown",
      "metadata": {
        "id": "GJ-8wiZfD6B2"
      },
      "source": [
        "3. Crie um programa que compara duas strings."
      ]
    },
    {
      "cell_type": "code",
      "metadata": {
        "id": "zVZfJB1TD6O_"
      },
      "source": [
        "# python é igual python ?\n",
        "\n"
      ],
      "execution_count": null,
      "outputs": []
    },
    {
      "cell_type": "markdown",
      "metadata": {
        "id": "vgmwilBtEN7k"
      },
      "source": [
        "4. Faça um programa que leia um nome e imprima as 4 primeiras letras do nome."
      ]
    },
    {
      "cell_type": "code",
      "metadata": {
        "id": "aBG8au6GEOr1",
        "outputId": "dbbbe389-dcca-483c-c506-32a0fa7da53d",
        "colab": {
          "base_uri": "https://localhost:8080/"
        }
      },
      "source": [
        "# python -> pyth\n",
        "motherfucker = 'Tommas Shelby'\n",
        "print(motherfucker[0:4])"
      ],
      "execution_count": 55,
      "outputs": [
        {
          "output_type": "stream",
          "text": [
            "Tomm\n"
          ],
          "name": "stdout"
        }
      ]
    },
    {
      "cell_type": "markdown",
      "metadata": {
        "id": "0vmlOK_jEffg"
      },
      "source": [
        "5. Escreva um programa que substitui as ocorrencias de um caractere 0 em uma string por outro caractere 1."
      ]
    },
    {
      "cell_type": "code",
      "metadata": {
        "id": "Bbkx8pbbEgGI",
        "outputId": "550c3a61-9ae7-44fe-b659-1922a393a146",
        "colab": {
          "base_uri": "https://localhost:8080/"
        }
      },
      "source": [
        "# 010101 -> 111111\n",
        "cont = '010101'\n",
        "print(cont.replace('0', '1'))\n"
      ],
      "execution_count": 57,
      "outputs": [
        {
          "output_type": "stream",
          "text": [
            "111111\n"
          ],
          "name": "stdout"
        }
      ]
    },
    {
      "cell_type": "markdown",
      "metadata": {
        "id": "j90EEiCEEgux"
      },
      "source": [
        "6. Entre com um nome e imprima o nome somente se a primeira letra do nome for “a” (maiuscula ou minuscula)."
      ]
    },
    {
      "cell_type": "code",
      "metadata": {
        "id": "irUDOxPNEjPC"
      },
      "source": [
        "nome = input('Digite seu nome: ')\n",
        "print()"
      ],
      "execution_count": null,
      "outputs": []
    },
    {
      "cell_type": "markdown",
      "metadata": {
        "id": "BstVdrmYEjZp"
      },
      "source": [
        "7. Faça um programa que receba do usuario uma string. O programa imprime a string sem suas vogais."
      ]
    },
    {
      "cell_type": "code",
      "metadata": {
        "id": "bZD3iQG5EqiY"
      },
      "source": [
        "vogais = input('Digite uma frase ')"
      ],
      "execution_count": null,
      "outputs": []
    },
    {
      "cell_type": "markdown",
      "metadata": {
        "id": "_Z0PwCJXEqxM"
      },
      "source": [
        "8. Faça um programa em que troque todas as ocorrencias de uma letra L1 pela letra L2 em uma string. A string e as letras L1 e L2 devem ser fornecidas pelo usuario."
      ]
    },
    {
      "cell_type": "code",
      "metadata": {
        "id": "QjX_42aQFIOe"
      },
      "source": [
        ""
      ],
      "execution_count": null,
      "outputs": []
    },
    {
      "cell_type": "markdown",
      "metadata": {
        "id": "YY-qlVJB-VDV"
      },
      "source": [
        "# Exercícios de Aprofundamento"
      ]
    },
    {
      "cell_type": "markdown",
      "metadata": {
        "id": "DDF__ihbEBVr"
      },
      "source": [
        "1. Faça um programa para converter uma letra maiuscula em letra minuscula. Use a tabela ASCII para resolver o problema."
      ]
    },
    {
      "cell_type": "code",
      "metadata": {
        "id": "QOBeBJWKEAm8"
      },
      "source": [
        ""
      ],
      "execution_count": null,
      "outputs": []
    },
    {
      "cell_type": "markdown",
      "metadata": {
        "id": "Yh7VBKntEA1c"
      },
      "source": [
        "2. Ler nome, sexo e idade. Se sexo for feminino e idade menor que 25, imprime o nome da pessoa e a palavra “ACEITA”, caso contrario imprimir “NÃO ACEITA”."
      ]
    },
    {
      "cell_type": "code",
      "metadata": {
        "id": "NEccKb6KEWyF"
      },
      "source": [
        ""
      ],
      "execution_count": null,
      "outputs": []
    },
    {
      "cell_type": "markdown",
      "metadata": {
        "id": "1Moz3Zx-EXE5"
      },
      "source": [
        "3. Faça um programa que conte o numero de 1's que aparecem em um string. Exemplo: \n",
        "\n",
        "0011001 -> 3"
      ]
    },
    {
      "cell_type": "code",
      "metadata": {
        "id": "_rikXdioEa45"
      },
      "source": [
        ""
      ],
      "execution_count": null,
      "outputs": []
    },
    {
      "cell_type": "markdown",
      "metadata": {
        "id": "Qndx5ui-EnyQ"
      },
      "source": [
        "4. Faça um programa que receba uma palavra e a imprima de tras-para-frente."
      ]
    },
    {
      "cell_type": "code",
      "metadata": {
        "id": "lvAMDSv4EoLn"
      },
      "source": [
        ""
      ],
      "execution_count": null,
      "outputs": []
    },
    {
      "cell_type": "markdown",
      "metadata": {
        "id": "zkMtGHOrEtXx"
      },
      "source": [
        "5. Faça um programa que receba uma palavra e calcule quantas vogais (a, e, i, o, u) possui essa palavra. Entre com um caractere (vogal ou consoante) e substitua todas as vogais da palavra dada por esse caractere."
      ]
    },
    {
      "cell_type": "code",
      "metadata": {
        "id": "o_yqagj2Et4Q"
      },
      "source": [
        ""
      ],
      "execution_count": null,
      "outputs": []
    },
    {
      "cell_type": "markdown",
      "metadata": {
        "id": "gdKlAXLHEwnv"
      },
      "source": [
        "6. Ler uma frase e contar quantos caracteres sao brancos. Lembre-se que uma frase e um conjunto de caracteres (vetor)."
      ]
    },
    {
      "cell_type": "code",
      "metadata": {
        "id": "GR6PBJAyExT2"
      },
      "source": [
        ""
      ],
      "execution_count": null,
      "outputs": []
    },
    {
      "cell_type": "markdown",
      "metadata": {
        "id": "7EV-Ig4ME1eZ"
      },
      "source": [
        "7. Fac¸a um programa que leia uma palavra e some 1 no valor ASCII de cada caractere da\n",
        "palavra. Imprima a string resultante."
      ]
    },
    {
      "cell_type": "code",
      "metadata": {
        "id": "goY3XWSPE2Bi"
      },
      "source": [
        ""
      ],
      "execution_count": null,
      "outputs": []
    },
    {
      "cell_type": "markdown",
      "metadata": {
        "id": "sc2Y5wRdE7Qv"
      },
      "source": [
        "8. Leia uma cadeia de caracteres e converta todos os caracteres para maiuscula. \n",
        "Dica:\n",
        "subtraia 32 dos caracteres cujo codigo ASCII esta entre 65 e 90. "
      ]
    },
    {
      "cell_type": "code",
      "metadata": {
        "id": "cHlW15vSE70P"
      },
      "source": [
        ""
      ],
      "execution_count": null,
      "outputs": []
    },
    {
      "cell_type": "markdown",
      "metadata": {
        "id": "BFl0gSmQE-XW"
      },
      "source": [
        "9. Escreva um programa para converter uma cadeia de caracteres de letras maiusculas em letras minusculas."
      ]
    },
    {
      "cell_type": "code",
      "metadata": {
        "id": "dnh8mPVLE-6w"
      },
      "source": [
        ""
      ],
      "execution_count": null,
      "outputs": []
    },
    {
      "cell_type": "markdown",
      "metadata": {
        "id": "0sHIsMBUFBpO"
      },
      "source": [
        "10. Leia um vetor contendo letras de uma frase inclusive os espaços em branco. Retirar os espaços em branco do vetor e depois escrever o vetor resultante."
      ]
    },
    {
      "cell_type": "code",
      "metadata": {
        "id": "WcSEYvZOFCFK"
      },
      "source": [
        ""
      ],
      "execution_count": null,
      "outputs": []
    }
  ]
}